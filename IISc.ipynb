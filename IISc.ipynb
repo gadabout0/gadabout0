{
  "nbformat": 4,
  "nbformat_minor": 0,
  "metadata": {
    "colab": {
      "name": "IISc.ipynb",
      "provenance": [],
      "collapsed_sections": [],
      "authorship_tag": "ABX9TyMhmaoBduLalnGl6+rx6jfu",
      "include_colab_link": true
    },
    "kernelspec": {
      "name": "python3",
      "display_name": "Python 3"
    },
    "language_info": {
      "name": "python"
    }
  },
  "cells": [
    {
      "cell_type": "markdown",
      "metadata": {
        "id": "view-in-github",
        "colab_type": "text"
      },
      "source": [
        "<a href=\"https://colab.research.google.com/github/gadabout0/gadabout0/blob/main/IISc.ipynb\" target=\"_parent\"><img src=\"https://colab.research.google.com/assets/colab-badge.svg\" alt=\"Open In Colab\"/></a>"
      ]
    },
    {
      "cell_type": "code",
      "metadata": {
        "colab": {
          "base_uri": "https://localhost:8080/"
        },
        "id": "QiHEhNeIgtg3",
        "outputId": "2b82f902-9510-465c-9acf-de92d6707d70"
      },
      "source": [
        "#shetye's implementation of kraus & Turner Model\n",
        "\n",
        "import math \n",
        "import matplotlib.pyplot as plt\n",
        "import statistics\n",
        "\n",
        "#Intial data \n",
        "\n",
        "Ts = [28] # value of the mixed layer temperature \n",
        "\n",
        "h = [50] # value of the mixed layer depth change it to list later\n",
        "\n",
        "Th = [25] #Value of the temperature of the layer below the mixed layer\n",
        "\n",
        "time = [0]\n",
        "\n",
        "Time = [0.]\n",
        "\n",
        "def dT(t,h): #function for calculating temperature change\n",
        "   T = Totalheatflux(Radiation(t,m))\n",
        "   K = (2/h**2) * (-1/(1026 * 2.1 * 10**(-4) * 9.81) * turblentmixing(T,h) +  h/(1026 * 3902) * T - Radiation(t,m) /( 0.06 * 3902 * 1026) * (1 - math. exp(- 0.06 *h)))\n",
        "   #print(K)\n",
        "   return K\n",
        "\n",
        "def dh(t,h): #function for calculating the change in mixed layer depth\n",
        "   T = Totalheatflux(Radiation(t,m))\n",
        "   K = 1/(h * (Ts[i-1] - Th[i-1]))*( 2/(1026 * 2.1 *10**(-4) * 9.81) * turblentmixing(T,h) + (Radiation(t,m) / (1026 * 3902))*(2/0.06 * (1 - math.exp( -0.06 * h)) - h * math.exp(-0.06 * h)) - (h/(1026 * 3902))*T)   \n",
        "   return K\n",
        "\n",
        "def Radiation(t,m): #function for calculation of R*\n",
        "   if t <= 11:\n",
        "      R = 350 * math.sin(math.pi * t/11) * (0.4 + 0.6 * math.sin(math.pi * m/11))  #Incoming solar radiation during the day time as a function of hour and month\n",
        "   else:\n",
        "      R = 0\n",
        "   return R\n",
        "#%%================================================\n",
        "def Totalheatflux(R):   #function for calculating T*\n",
        "        T = 0\n",
        "        # seasonal variation of Total radiation.\n",
        "        if i<1440:\n",
        "                T = R-100           # Jan - Feb\n",
        "        if i > 2880 and i < 3600:   # Mar - May    \n",
        "                T = R + 50\n",
        "        if i > 3600 and i< 6480:    # JJAS\n",
        "                T = R -20 \n",
        "        if i > 6480 and i < 7200:   # Oct\n",
        "            T = R + 50\n",
        "        if i > 7200:                # Nov - Dec\n",
        "                T = R -100 \n",
        "        return T\n",
        "\n",
        "def turblentmixing(T,h): \n",
        "        tau = 0\n",
        "        if i < 3600:\n",
        "                tau = 0.03\n",
        "        if i > 3600 and i < 6480:  # JJAS\n",
        "                tau = 0.23\n",
        "                \n",
        "        if i > 6480:\n",
        "                tau = 0.03\n",
        "#%%\n",
        "        if T > 0:\n",
        "                G = 1.25* 1026 * (tau/1026)**1.5 - 1026 * 10**(-8) * h\n",
        "        else:\n",
        "                G = 1.25* 1026 * (tau/1026)**1.5 - 1026 * 10**(-8) * h + 0.425 * 9.81 * 2.1 * 10**(-4) * T * (h/3902)\n",
        "        return G\n",
        "\n",
        "        \n",
        "\n",
        "# These are the variables for running a loop to execute RK 4th order method.\n",
        "i = 1\n",
        "n = 1\n",
        "t = 0\n",
        "m = 0\n",
        "o = 1\n",
        "\n",
        "# loop for executing the RK 4th order method\n",
        "while (i<=  365*24):\n",
        "   k1 = dT(t,h[i-1])\n",
        "   k2 = dT(t+0.5,h[i-1])\n",
        "   k3 = dT(t+0.5,h[i-1])\n",
        "   k4 = dT(t+1 , h[i-1])\n",
        "   Ts.append(Ts[i-1] + 1/6 * (k1 + 2*(k2+k3) + k4)*1000)\n",
        "   k5 = dh(t,h[i-1])\n",
        "   k6 = dh(t+0.5,h[i-1] + 0.5 * k5)\n",
        "   k7 = dh(t+0.5,h[i-1] + 0.5 * k6)\n",
        "   k8 = dh(t+1,h[i-1] + k7)\n",
        "   h.append(h[i-1] + (1/6) * (k5 + 2*(k6 + k7) + k8)*1000)\n",
        "   Th.append(Th[i-1] * (h[i] - h[i-1]) * 0.001)\n",
        "   time.append(time[i-1] +1)\n",
        "   Time.append(time[i]/24.)\n",
        "   if i==n*24:\n",
        "        t =0\n",
        "        n=n+1\n",
        "   if i == o*24*30:\n",
        "        m = m+1\n",
        "        o = o+1\n",
        "   i = i+1\n",
        "   t = t+1\n",
        "           \n",
        "mean_Ts = statistics.mean((Ts[3600:6480]))\n",
        "\n",
        "print(mean_Ts)\n",
        "\n",
        "\n",
        "#plt.plot(Time,Ts)\n",
        "#plt.xlabel('Time in days since Jan 1st')\n",
        "#plt.ylabel('Temperature of the mixed Layer in degrees centigrade')\n",
        "#plt.show()\n",
        "#plt.plot(Time,h)\n",
        "#plt.xlabel('Time in days since Jan 1st')\n",
        "#plt.ylabel('Depth of mixed layer in meters')\n",
        "#plt.show()\n",
        "#print(h)\n",
        "\n",
        "\n",
        "\n",
        "\n",
        "\n",
        "\n",
        "\n",
        "\n"
      ],
      "execution_count": null,
      "outputs": [
        {
          "output_type": "stream",
          "name": "stdout",
          "text": [
            "27.133088594337554\n"
          ]
        }
      ]
    },
    {
      "cell_type": "code",
      "metadata": {
        "id": "6F5xlFktjM3X"
      },
      "source": [
        ""
      ],
      "execution_count": null,
      "outputs": []
    }
  ]
}